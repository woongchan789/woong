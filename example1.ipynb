{
  "nbformat": 4,
  "nbformat_minor": 0,
  "metadata": {
    "colab": {
      "name": "example1.ipynb",
      "private_outputs": true,
      "provenance": [],
      "toc_visible": true,
      "mount_file_id": "1T9AGfv966DBHCgHsdbY4xopJeo00kwN4",
      "authorship_tag": "ABX9TyMfUneMtZ22XUpb5yQW8zMf",
      "include_colab_link": true
    },
    "kernelspec": {
      "name": "python3",
      "display_name": "Python 3"
    },
    "language_info": {
      "name": "python"
    }
  },
  "cells": [
    {
      "cell_type": "markdown",
      "metadata": {
        "id": "view-in-github",
        "colab_type": "text"
      },
      "source": [
        "<a href=\"https://colab.research.google.com/github/woongchan789/woong/blob/main/example1.ipynb\" target=\"_parent\"><img src=\"https://colab.research.google.com/assets/colab-badge.svg\" alt=\"Open In Colab\"/></a>"
      ]
    },
    {
      "cell_type": "markdown",
      "metadata": {
        "id": "EnMgVZi8WzKc"
      },
      "source": [
        "# Google Drive 및 GitHub와의 연동"
      ]
    },
    {
      "cell_type": "markdown",
      "metadata": {
        "id": "O3sFqwXwW3Zr"
      },
      "source": [
        "1. Google Drive와의 연동"
      ]
    },
    {
      "cell_type": "code",
      "metadata": {
        "id": "q9kp2g_tXTtR"
      },
      "source": [
        "from google.colab import drive \n",
        "drive.mount('content/')"
      ],
      "execution_count": null,
      "outputs": []
    },
    {
      "cell_type": "markdown",
      "metadata": {
        "id": "rU4ONB6HXjUO"
      },
      "source": [
        "2. GitHub와의 연동"
      ]
    },
    {
      "cell_type": "markdown",
      "metadata": {
        "id": "Lhhu-lWwXmeb"
      },
      "source": [
        "파일 > GitHub에 사본저장"
      ]
    },
    {
      "cell_type": "markdown",
      "metadata": {
        "id": "WpPfc7-oP2Jx"
      },
      "source": [
        "# 파일업로드방법"
      ]
    },
    {
      "cell_type": "markdown",
      "metadata": {
        "id": "i7vWqvsQQCYL"
      },
      "source": [
        "Colab은 클라우드환경 기반의 Jupyter Notebook 이기 때문에 사용자 개인의 로컬경로를 *이해하지못함*. 즉, read_csv와 같은 기능으로 로컬 경로에 있는 데이터를 못 가져옴"
      ]
    },
    {
      "cell_type": "markdown",
      "metadata": {
        "id": "PyjBDoX8WLOV"
      },
      "source": [
        "1. Colab서버에 업로드하는 방법 ( 단, 세션이 종료되면 다시 업로드필요)"
      ]
    },
    {
      "cell_type": "code",
      "metadata": {
        "id": "t9JUuAxmWnXi"
      },
      "source": [
        "from google.colab import files\n",
        "uploaded = files.upload()"
      ],
      "execution_count": null,
      "outputs": []
    },
    {
      "cell_type": "code",
      "metadata": {
        "id": "hnWYdtXEQvBC"
      },
      "source": [
        "!ls"
      ],
      "execution_count": null,
      "outputs": []
    },
    {
      "cell_type": "code",
      "metadata": {
        "id": "bxZQI3DOQxuL"
      },
      "source": [
        "import pandas as pd\n",
        "df = pd.read_csv(\"sample_submission.csv\")\n",
        "df"
      ],
      "execution_count": null,
      "outputs": []
    },
    {
      "cell_type": "markdown",
      "metadata": {
        "id": "KoQJMikMPkm8"
      },
      "source": [
        "2. Google Drive를 mount(활성화)시키고 Google Drive에서 가져오기(마운트가 번거롭긴 하지만 추천)"
      ]
    },
    {
      "cell_type": "code",
      "metadata": {
        "id": "CycnlerWR3bA"
      },
      "source": [
        "import pandas as pd\n",
        "df = pd.read_csv('/content/drive/MyDrive/sample_submission.csv')\n",
        "df"
      ],
      "execution_count": null,
      "outputs": []
    },
    {
      "cell_type": "markdown",
      "metadata": {
        "id": "kkjr_97IV9WC"
      },
      "source": [
        "# 기본적인 GUI활용"
      ]
    },
    {
      "cell_type": "markdown",
      "metadata": {
        "id": "XKuIMXCXS0kf"
      },
      "source": [
        "hello"
      ]
    },
    {
      "cell_type": "code",
      "metadata": {
        "id": "JMdSy9PaVvg-"
      },
      "source": [
        "# load an example dataset\n",
        "from vega_datasets import data\n",
        "cars = data.cars()\n",
        "\n",
        "# plot the dataset, referencing dataframe column names\n",
        "import altair as alt\n",
        "alt.Chart(cars).mark_bar().encode(\n",
        "  x='mean(Miles_per_Gallon)',\n",
        "  y='Origin',\n",
        "  color='Origin'\n",
        ")"
      ],
      "execution_count": null,
      "outputs": []
    },
    {
      "cell_type": "markdown",
      "metadata": {
        "id": "JAmtKzLGV7X3"
      },
      "source": [
        "# GPU환경세팅"
      ]
    },
    {
      "cell_type": "markdown",
      "metadata": {
        "id": "JTtbZsH9VxVn"
      },
      "source": [
        "# 패키지 설치"
      ]
    },
    {
      "cell_type": "markdown",
      "metadata": {
        "id": "c6uznYIQWlpI"
      },
      "source": [
        " 대부분의 패키지들은 이미 install되있음\n",
        " 설치되지 않은 패키지들은 pip명령어로 개별설치가능"
      ]
    },
    {
      "cell_type": "code",
      "metadata": {
        "id": "51OgwsF7WVDw"
      },
      "source": [
        "import boto3"
      ],
      "execution_count": null,
      "outputs": []
    },
    {
      "cell_type": "code",
      "metadata": {
        "id": "U1S5-_csWZac"
      },
      "source": [
        "!pip install boto3"
      ],
      "execution_count": null,
      "outputs": []
    },
    {
      "cell_type": "code",
      "metadata": {
        "id": "o0MTPHaXWcef"
      },
      "source": [
        "import boto3"
      ],
      "execution_count": null,
      "outputs": []
    },
    {
      "cell_type": "code",
      "metadata": {
        "id": "q2QWIFK_WgED"
      },
      "source": [
        ""
      ],
      "execution_count": null,
      "outputs": []
    }
  ]
}